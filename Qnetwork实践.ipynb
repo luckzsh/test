{
 "cells": [
  {
   "cell_type": "code",
   "execution_count": 12,
   "metadata": {
    "collapsed": false
   },
   "outputs": [
    {
     "name": "stdout",
     "output_type": "stream",
     "text": [
      "1.4.0\n"
     ]
    }
   ],
   "source": [
    "import tensorflow as tf\n",
    "import numpy as np\n",
    "print(tf.__version__)\n"
   ]
  },
  {
   "cell_type": "code",
   "execution_count": null,
   "metadata": {
    "collapsed": true
   },
   "outputs": [],
   "source": [
    "sess = tf.Session()"
   ]
  },
  {
   "cell_type": "code",
   "execution_count": 105,
   "metadata": {
    "collapsed": false
   },
   "outputs": [
    {
     "name": "stdout",
     "output_type": "stream",
     "text": [
      "-k array 1,2,2,5--\n",
      "[[[[40 78 45 87 16]\n",
      "   [28 45 67 66 78]]\n",
      "\n",
      "  [[46  0 29 63 75]\n",
      "   [35 53 93 33  2]]]]\n",
      "-k array 2,2,5--\n",
      "[[[84 83 48 54 32]\n",
      "  [28 55 82 31 28]]\n",
      "\n",
      " [[94 74  8 99 32]\n",
      "  [ 8 84 77 50 79]]]\n",
      "-k to tensor a--\n",
      "Tensor(\"Const_13:0\", shape=(2, 2, 5), dtype=int32)\n",
      "[[[84 83 48 54 32]\n",
      "  [28 55 82 31 28]]\n",
      "\n",
      " [[94 74  8 99 32]\n",
      "  [ 8 84 77 50 79]]]\n",
      "-tensor a expand-\n",
      "Tensor(\"ExpandDims_14:0\", shape=(1, 2, 2, 5), dtype=int32)\n",
      "[[[[84 83 48 54 32]\n",
      "   [28 55 82 31 28]]\n",
      "\n",
      "  [[94 74  8 99 32]\n",
      "   [ 8 84 77 50 79]]]]\n",
      " a transpose [0,3,1,2]\n",
      "[[[[84 28]\n",
      "   [94  8]]\n",
      "\n",
      "  [[83 55]\n",
      "   [74 84]]\n",
      "\n",
      "  [[48 82]\n",
      "   [ 8 77]]\n",
      "\n",
      "  [[54 31]\n",
      "   [99 50]]\n",
      "\n",
      "  [[32 28]\n",
      "   [32 79]]]]\n"
     ]
    }
   ],
   "source": [
    "# 生产随机数做测试用\n",
    "k = np.random.randint(100,size=(1,2,2,5))\n",
    "print(\"-k array 1,2,2,5--\")\n",
    "print(k)\n",
    "\n",
    "k = np.random.randint(100,size=(2,2,5))\n",
    "print(\"-k array 2,2,5--\")\n",
    "print(k)\n",
    "\n",
    "a = tf.convert_to_tensor(k)\n",
    "print(\"-k to tensor a--\")\n",
    "print(a)\n",
    "print(sess.run(a))\n",
    "\n",
    "a=tf.expand_dims(a,0)\n",
    "print(\"-tensor a expand-\")\n",
    "print(a)\n",
    "print(sess.run(a))\n",
    "\n",
    "image_permute = tf.transpose(a, perm=[0,3,1,2])\n",
    "print(\" a transpose [0,3,1,2]\")\n",
    "print(sess.run(image_permute))\n"
   ]
  },
  {
   "cell_type": "code",
   "execution_count": 89,
   "metadata": {
    "collapsed": false
   },
   "outputs": [
    {
     "name": "stdout",
     "output_type": "stream",
     "text": [
      "Tensor(\"random_normal_32:0\", shape=(2, 2, 5), dtype=float32)\n",
      "[[[-0.8113182   1.4845988   0.06532937 -2.4427042   0.0992484 ]\n",
      "  [ 0.5912243   0.59282297 -2.1229296  -0.72289723 -0.05627038]]\n",
      "\n",
      " [[ 0.6435448  -0.26432407  1.8566332   0.5678417  -0.3828359 ]\n",
      "  [-1.4853433   1.2617711  -0.02530608 -0.2646297   1.5328138 ]]]\n",
      "Tensor(\"ExpandDims_12:0\", shape=(1, 2, 2, 5), dtype=float32)\n",
      "[[[[-0.7682365  -0.4501324   0.4401832  -0.24608992  0.0162221 ]\n",
      "   [-0.79020566 -0.50659627 -0.14337528 -1.2017821  -0.09246821]]\n",
      "\n",
      "  [[-1.3039256   1.047524    0.04390011 -0.44126952 -0.75028235]\n",
      "   [ 0.37807205 -0.65357274  0.46196136  0.15013815  0.03461238]]]]\n"
     ]
    }
   ],
   "source": [
    "a = tf.random_normal(shape=[2,2,5],seed=1)\n",
    "b = tf.expand_dims(a,0)\n",
    "print(a)\n",
    "print(sess.run(a))\n",
    "print(b)\n",
    "print(sess.run(b))"
   ]
  },
  {
   "cell_type": "code",
   "execution_count": 68,
   "metadata": {
    "collapsed": false
   },
   "outputs": [
    {
     "name": "stdout",
     "output_type": "stream",
     "text": [
      "[[[[48. 15. 48.  1. 53.]\n",
      "   [86. 48. 57. 84. 59.]]\n",
      "\n",
      "  [[34. 52. 93. 75. 88.]\n",
      "   [34. 17. 64. 71. 15.]]]]\n"
     ]
    }
   ],
   "source": [
    "# 定义placeholder，做为tensorflow计算图的输入\n",
    "num_frames = 5 \n",
    "imageIn = tf.placeholder(shape=[None,2,2,num_frames], dtype=tf.float32)\n",
    "print(sess.run(imageIn, feed_dict={imageIn:k}))"
   ]
  },
  {
   "cell_type": "code",
   "execution_count": 70,
   "metadata": {
    "collapsed": false,
    "scrolled": false
   },
   "outputs": [
    {
     "name": "stdout",
     "output_type": "stream",
     "text": [
      "[[[[48. 86.]\n",
      "   [34. 34.]]\n",
      "\n",
      "  [[15. 48.]\n",
      "   [52. 17.]]\n",
      "\n",
      "  [[48. 57.]\n",
      "   [93. 64.]]\n",
      "\n",
      "  [[ 1. 84.]\n",
      "   [75. 71.]]\n",
      "\n",
      "  [[53. 59.]\n",
      "   [88. 15.]]]]\n"
     ]
    }
   ],
   "source": [
    "# 使用transpose交换维度\n",
    "image_permute = tf.transpose(imageIn, perm=[0,3,1,2])\n",
    "print(sess.run(image_permute, feed_dict={imageIn:k}))"
   ]
  },
  {
   "cell_type": "code",
   "execution_count": 72,
   "metadata": {
    "collapsed": false,
    "scrolled": true
   },
   "outputs": [
    {
     "name": "stdout",
     "output_type": "stream",
     "text": [
      "Tensor(\"Reshape_4:0\", shape=(?, 2, 2, 1), dtype=float32)\n"
     ]
    },
    {
     "data": {
      "text/plain": [
       "array([[[[48.],\n",
       "         [86.]],\n",
       "\n",
       "        [[34.],\n",
       "         [34.]]],\n",
       "\n",
       "\n",
       "       [[[15.],\n",
       "         [48.]],\n",
       "\n",
       "        [[52.],\n",
       "         [17.]]],\n",
       "\n",
       "\n",
       "       [[[48.],\n",
       "         [57.]],\n",
       "\n",
       "        [[93.],\n",
       "         [64.]]],\n",
       "\n",
       "\n",
       "       [[[ 1.],\n",
       "         [84.]],\n",
       "\n",
       "        [[75.],\n",
       "         [71.]]],\n",
       "\n",
       "\n",
       "       [[[53.],\n",
       "         [59.]],\n",
       "\n",
       "        [[88.],\n",
       "         [15.]]]], dtype=float32)"
      ]
     },
     "execution_count": 72,
     "metadata": {},
     "output_type": "execute_result"
    }
   ],
   "source": [
    "image_reshape = tf.reshape(image_permute, [-1, 2, 2, 1])\n",
    "print(image_reshape)\n",
    "sess.run(image_reshape,feed_dict={imageIn:k})"
   ]
  },
  {
   "cell_type": "code",
   "execution_count": null,
   "metadata": {
    "collapsed": true
   },
   "outputs": [],
   "source": []
  }
 ],
 "metadata": {
  "anaconda-cloud": {},
  "kernelspec": {
   "display_name": "Python [default]",
   "language": "python",
   "name": "python3"
  },
  "language_info": {
   "codemirror_mode": {
    "name": "ipython",
    "version": 3
   },
   "file_extension": ".py",
   "mimetype": "text/x-python",
   "name": "python",
   "nbconvert_exporter": "python",
   "pygments_lexer": "ipython3",
   "version": "3.5.2"
  }
 },
 "nbformat": 4,
 "nbformat_minor": 1
}
