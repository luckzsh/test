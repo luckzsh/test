{
 "cells": [
  {
   "cell_type": "code",
   "execution_count": 27,
   "metadata": {},
   "outputs": [],
   "source": [
    "# coding=utf-8\n",
    "import tensorflow as tf\n",
    "import numpy as np\n",
    "tf.reset_default_graph()\n",
    "\n",
    "# 确保可重现，指定随机数\n",
    "seed = 13\n",
    "np.random.seed(seed)\n",
    "tf.set_random_seed(seed)"
   ]
  },
  {
   "cell_type": "code",
   "execution_count": 28,
   "metadata": {},
   "outputs": [],
   "source": [
    "num_channels = 4\n",
    "history_length = 20\n",
    "batch_size = 1\n",
    "split_size = 2 \n",
    "window_size =10 "
   ]
  },
  {
   "cell_type": "code",
   "execution_count": 36,
   "metadata": {
    "scrolled": true
   },
   "outputs": [
    {
     "data": {
      "text/plain": [
       "array([[3, 3, 1, 3],\n",
       "       [1, 2, 3, 1],\n",
       "       [3, 1, 3, 4],\n",
       "       [4, 4, 1, 4],\n",
       "       [1, 3, 3, 1],\n",
       "       [1, 3, 1, 2],\n",
       "       [1, 3, 2, 2],\n",
       "       [1, 1, 2, 3],\n",
       "       [3, 1, 3, 2],\n",
       "       [4, 2, 3, 4],\n",
       "       [3, 4, 1, 4],\n",
       "       [3, 1, 2, 1],\n",
       "       [3, 4, 2, 2],\n",
       "       [3, 4, 1, 3],\n",
       "       [1, 1, 3, 3],\n",
       "       [4, 1, 3, 3],\n",
       "       [2, 2, 4, 1],\n",
       "       [3, 1, 4, 2],\n",
       "       [1, 3, 1, 3],\n",
       "       [4, 4, 4, 1]])"
      ]
     },
     "execution_count": 36,
     "metadata": {},
     "output_type": "execute_result"
    }
   ],
   "source": [
    "input_shape = (history_length, num_channels)\n",
    "state = np.zeros(input_shape)\n",
    "state = np.random.randint(1,5,size=input_shape)\n",
    "state"
   ]
  },
  {
   "cell_type": "code",
   "execution_count": 19,
   "metadata": {},
   "outputs": [],
   "source": [
    "s_t = tf.placeholder(dtype=tf.float32, shape=[None, history_length, num_channels])\n",
    "# input_3d = tf.expand_dims(ohlc, 0)  # shape (30,4) --> (1,30,4)\n",
    "reshape = tf.reshape(s_t, shape=[batch_size, split_size, window_size, num_channels])"
   ]
  },
  {
   "cell_type": "code",
   "execution_count": 5,
   "metadata": {},
   "outputs": [],
   "source": [
    "kernel_size = 2\n",
    "filter_size = 3 # 滤波器数量，1输出1列数据，n输出n列数据\n",
    "conv2d = tf.layers.conv2d(inputs=reshape, filters=filter_size,\n",
    "                          kernel_size=[1, kernel_size], strides=(1, 1),\n",
    "                          padding='valid', activation=None)\n",
    "'''列卷积'''\n",
    "normal = tf.layers.batch_normalization(inputs=conv2d, training=True, scale=True)\n",
    "'''对一列数据做正规化，独立计算列，如果一列数据都相同，此列输出0'''\n",
    "\n",
    "input_shape = tf.shape(normal)\n",
    "window_size = window_size - kernel_size + 1\n",
    "reshape1 = tf.reshape(normal, shape=[batch_size, split_size, window_size * filter_size])"
   ]
  },
  {
   "cell_type": "code",
   "execution_count": 16,
   "metadata": {},
   "outputs": [
    {
     "name": "stdout",
     "output_type": "stream",
     "text": [
      "[[[ 3.  1.  3.  1.]\n",
      "  [ 3.  3.  1.  2.]\n",
      "  [ 1.  3.  4.  3.]\n",
      "  [ 1.  3.  3.  3.]\n",
      "  [ 3.  2.  2.  3.]\n",
      "  [ 2.  4.  1.  3.]\n",
      "  [ 1.  4.  2.  4.]\n",
      "  [ 4.  3.  2.  4.]\n",
      "  [ 2.  3.  1.  1.]\n",
      "  [ 4.  1.  1.  3.]\n",
      "  [ 3.  3.  1.  2.]\n",
      "  [ 4.  4.  2.  1.]\n",
      "  [ 4.  3.  1.  2.]\n",
      "  [ 2.  1.  4.  2.]\n",
      "  [ 2.  4.  4.  2.]\n",
      "  [ 3.  4.  3.  3.]\n",
      "  [ 4.  4.  4.  4.]\n",
      "  [ 3.  3.  4.  1.]\n",
      "  [ 4.  3.  1.  3.]\n",
      "  [ 2.  3.  2.  3.]]]\n",
      "[[[[-1.33873022  0.8012287  -1.79627013]\n",
      "   [-1.75139332  0.18181691 -3.24360108]\n",
      "   [-0.18664128  1.7544018  -2.17031693]\n",
      "   [-1.01400137  0.27651498 -3.02645421]\n",
      "   [-1.00606132  2.18393707 -2.60098767]\n",
      "   [-1.9602375   1.32021248 -2.85595274]\n",
      "   [-1.78900886 -0.24253905 -3.78517866]\n",
      "   [-1.16652465  3.89439344 -3.80495882]\n",
      "   [-3.05185342 -1.77843368 -3.40964746]]\n",
      "\n",
      "  [[-2.74427557  0.26360187 -2.51724672]\n",
      "   [-4.0366416   0.50869912 -3.35714817]\n",
      "   [-2.08032942 -0.12029248 -4.72506046]\n",
      "   [ 0.14745891  0.817056   -1.36440849]\n",
      "   [-2.25442433  0.63927352 -2.40009427]\n",
      "   [-2.46265817 -0.31354439 -4.11190462]\n",
      "   [-1.3947475   2.75911069 -4.50818062]\n",
      "   [-2.78237414  0.44294199 -2.64544153]\n",
      "   [-1.95255709  1.5573951  -4.13324976]]]]\n",
      "[[[[ 0.48991531 -0.02328827  1.47873569]\n",
      "   [ 0.07296763 -0.51912826 -0.11822896]\n",
      "   [ 1.65396619  0.73972815  1.06601763]\n",
      "   [ 0.81801575 -0.44332233  0.12136783]\n",
      "   [ 0.82603824  1.08357167  0.59082162]\n",
      "   [-0.13804492  0.39215899  0.30949676]\n",
      "   [ 0.03496154 -0.8588258  -0.71579802]\n",
      "   [ 0.66390884  2.45279455 -0.73762321]\n",
      "   [-1.24099481 -2.08831167 -0.30144221]]\n",
      "\n",
      "  [[-0.93022346 -0.4536593   0.68322021]\n",
      "   [-2.23600793 -0.2574586  -0.24351522]\n",
      "   [-0.25938374 -0.76096725 -1.75285041]\n",
      "   [ 1.99153519 -0.01061849  1.95524573]\n",
      "   [-0.43528622 -0.15293361  0.81248456]\n",
      "   [-0.6456821  -0.91566569 -1.07630289]\n",
      "   [ 0.43331644  1.54399896 -1.51354825]\n",
      "   [-0.96871763 -0.31009728  0.54177189]\n",
      "   [-0.13028477  0.58202398 -1.09985483]]]]\n",
      "[[[ 0.48991531 -0.02328827  1.47873569  0.07296763 -0.51912826 -0.11822896\n",
      "    1.65396619  0.73972815  1.06601763  0.81801575 -0.44332233  0.12136783\n",
      "    0.82603824  1.08357167  0.59082162 -0.13804492  0.39215899  0.30949676\n",
      "    0.03496154 -0.8588258  -0.71579802  0.66390884  2.45279455 -0.73762321\n",
      "   -1.24099481 -2.08831167 -0.30144221]\n",
      "  [-0.93022346 -0.4536593   0.68322021 -2.23600793 -0.2574586  -0.24351522\n",
      "   -0.25938374 -0.76096725 -1.75285041  1.99153519 -0.01061849  1.95524573\n",
      "   -0.43528622 -0.15293361  0.81248456 -0.6456821  -0.91566569 -1.07630289\n",
      "    0.43331644  1.54399896 -1.51354825 -0.96871763 -0.31009728  0.54177189\n",
      "   -0.13028477  0.58202398 -1.09985483]]]\n"
     ]
    }
   ],
   "source": [
    "with tf.Session() as sess:\n",
    "    sess.run(tf.global_variables_initializer())\n",
    "    result = sess.run(fetches=s_t, feed_dict={s_t: [state]})\n",
    "    print(result)\n",
    "    result = sess.run(fetches=conv2d, feed_dict={s_t: [state]})\n",
    "    print(result)\n",
    "    result = sess.run(fetches=normal, feed_dict={s_t: [state]})\n",
    "    print(result)\n",
    "    result = sess.run(fetches=reshape1, feed_dict={s_t: [state]})\n",
    "    print(result)"
   ]
  },
  {
   "cell_type": "code",
   "execution_count": 7,
   "metadata": {},
   "outputs": [],
   "source": [
    "gru_cells = []\n",
    "train = True\n",
    "gru_keep_prob = 0.5\n",
    "gru_num_cells = 2\n",
    "gru_cell_size = 128\n",
    "for i in range(0, gru_num_cells):\n",
    "    cell = tf.contrib.rnn.GRUCell(num_units=gru_cell_size)                \n",
    "    if train:\n",
    "        cell = tf.contrib.rnn.DropoutWrapper(cell, output_keep_prob=gru_keep_prob)\n",
    "        gru_cells.append(cell)\n",
    "        \n",
    "multicell = tf.contrib.rnn.MultiRNNCell(gru_cells)\n",
    "output, final_state = tf.nn.dynamic_rnn(cell=multicell, inputs=reshape1, dtype=tf.float32)\n",
    "out = tf.unstack(output, axis=1)[-1]"
   ]
  },
  {
   "cell_type": "code",
   "execution_count": 8,
   "metadata": {},
   "outputs": [
    {
     "name": "stdout",
     "output_type": "stream",
     "text": [
      "[[-0.         -0.00698679 -0.          0.06069346  0.          0.08136414\n",
      "  -0.         -0.          0.          0.03657795  0.         -0.02237264\n",
      "   0.         -0.0666007   0.         -0.         -0.04022884 -0.05512542\n",
      "  -0.17065185 -0.02072918 -0.          0.17627537 -0.         -0.\n",
      "   0.02873364 -0.08650163  0.055222    0.         -0.04822397  0.16433915\n",
      "  -0.16346392  0.          0.10936277  0.0855329  -0.02512092  0.\n",
      "   0.03830057 -0.13932312 -0.          0.1262095   0.20142992  0.         -0.\n",
      "   0.         -0.01664362  0.00919864 -0.         -0.         -0.04053437\n",
      "  -0.13862249  0.09863307  0.         -0.19957796  0.          0.16707429\n",
      "  -0.07691921  0.         -0.10159691  0.          0.         -0.01239831\n",
      "  -0.         -0.          0.          0.          0.          0.02715179\n",
      "  -0.03571545 -0.         -0.          0.03334166  0.07660545 -0.         -0.\n",
      "  -0.04066686  0.          0.02586804  0.         -0.01981907  0.\n",
      "  -0.01123836  0.         -0.          0.0801781  -0.02171465  0.0087518\n",
      "  -0.09410143 -0.          0.13570236 -0.11374859 -0.          0.01077507\n",
      "   0.09639439 -0.          0.         -0.06375234  0.03191143 -0.\n",
      "  -0.0741771  -0.         -0.          0.00961356  0.1141169  -0.         -0.\n",
      "   0.21480122 -0.16822991 -0.09570015 -0.         -0.06878754  0.\n",
      "   0.0449731  -0.0038125   0.0666686  -0.08589291  0.         -0.12120474\n",
      "  -0.         -0.          0.04114336  0.18255836  0.         -0.00247234\n",
      "  -0.0925113  -0.          0.         -0.         -0.        ]]\n"
     ]
    }
   ],
   "source": [
    "with tf.Session() as sess:\n",
    "    sess.run(tf.initialize_all_variables())\n",
    "    result = sess.run(fetches=out, feed_dict={s_t: [state]})\n",
    "    print(result)"
   ]
  },
  {
   "cell_type": "code",
   "execution_count": 11,
   "metadata": {},
   "outputs": [
    {
     "data": {
      "text/plain": [
       "<tf.Tensor 'rnn/transpose_1:0' shape=(1, 2, 128) dtype=float32>"
      ]
     },
     "execution_count": 11,
     "metadata": {},
     "output_type": "execute_result"
    }
   ],
   "source": [
    "output"
   ]
  }
 ],
 "metadata": {
  "kernelspec": {
   "display_name": "Python 3",
   "language": "python",
   "name": "python3"
  },
  "language_info": {
   "codemirror_mode": {
    "name": "ipython",
    "version": 3
   },
   "file_extension": ".py",
   "mimetype": "text/x-python",
   "name": "python",
   "nbconvert_exporter": "python",
   "pygments_lexer": "ipython3",
   "version": "3.6.3"
  }
 },
 "nbformat": 4,
 "nbformat_minor": 2
}
